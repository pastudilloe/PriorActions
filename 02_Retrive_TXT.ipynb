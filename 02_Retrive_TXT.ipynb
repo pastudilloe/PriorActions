{
 "cells": [
  {
   "cell_type": "code",
   "execution_count": 2,
   "metadata": {},
   "outputs": [],
   "source": [
    "import os                                                       # For file and directory operations\n",
    "import time                                                     # To pause execution (time.sleep)\n",
    "import csv                                                      # To read/write CSV files\n",
    "import requests                                                 # For HTTP requests to download text files\n",
    "from selenium import webdriver                                  # Core Selenium WebDriver interface\n",
    "from selenium.webdriver.common.by import By                     # To locate elements by CSS, XPath, etc.\n",
    "from selenium.webdriver.chrome.service import Service            # To wrap ChromeDriver in a service object\n",
    "from webdriver_manager.chrome import ChromeDriverManager         # To auto-install the correct ChromeDriver\n",
    "from selenium.common.exceptions import (                         # Common Selenium exceptions for robust error handling\n",
    "    NoSuchWindowException,\n",
    "    UnexpectedAlertPresentException,\n",
    "    InvalidSessionIdException\n",
    ")"
   ]
  },
  {
   "cell_type": "code",
   "execution_count": 3,
   "metadata": {},
   "outputs": [],
   "source": [
    "# Define a helper to initialize the Selenium WebDriver\n",
    "\n",
    "def initialize_driver():\n",
    "    \"\"\"Initialize and return a new Selenium Chrome WebDriver instance.\"\"\"\n",
    "    service = Service(ChromeDriverManager().install())            # Download & start ChromeDriver\n",
    "    return webdriver.Chrome(service=service)                      # Launch a Chrome browser session\n",
    "\n",
    "# --- Initialize Selenium WebDriver once at start ---\n",
    "driver = initialize_driver()\n"
   ]
  },
  {
   "cell_type": "code",
   "execution_count": 4,
   "metadata": {},
   "outputs": [],
   "source": [
    "# Load the CSV of missing document links\n",
    "\n",
    "path1 = '/Users/pastudilloe/Library/CloudStorage/Dropbox/01 CONSULTING/WB_PriorActions_Poverty'\n",
    "csv_filename = os.path.join(path1, \"Documents\", \"world_bank_documents_urls_missing.csv\")\n",
    "rows = []\n",
    "with open(csv_filename, mode=\"r\", encoding=\"utf-8\") as f:\n",
    "    reader = csv.DictReader(f)                                   # Create a DictReader to parse CSV rows by header\n",
    "    for row in reader:\n",
    "        rows.append(row)                                         # Collect each row (a dict) into a list\n"
   ]
  },
  {
   "cell_type": "code",
   "execution_count": 5,
   "metadata": {},
   "outputs": [],
   "source": [
    "# Ensure the \"Text\" directory exists for saving downloads\n",
    "\n",
    "text_dir = os.path.join(path1, \"Text\")\n",
    "if not os.path.exists(text_dir):\n",
    "    os.makedirs(text_dir)                                        # Create the directory if it’s not already there\n",
    "\n"
   ]
  },
  {
   "cell_type": "code",
   "execution_count": 6,
   "metadata": {},
   "outputs": [
    {
     "data": {
      "text/plain": [
       "32"
      ]
     },
     "execution_count": 6,
     "metadata": {},
     "output_type": "execute_result"
    }
   ],
   "source": [
    "# Set up a log CSV to record download statuses\n",
    "\n",
    "log_filename = os.path.join(path1, \"download_log.csv\")\n",
    "log_fields = [\"Report No.\", \"Status\", \"Message\", \"Link\"]\n",
    "log_file = open(log_filename, mode=\"w\", encoding=\"utf-8\", newline=\"\")\n",
    "log_writer = csv.DictWriter(log_file, fieldnames=log_fields)\n",
    "log_writer.writeheader()                                        # Write the header row\n",
    "\n"
   ]
  },
  {
   "cell_type": "code",
   "execution_count": 7,
   "metadata": {},
   "outputs": [],
   "source": [
    "# Define a function to close pop-ups or alerts on the page\n",
    "\n",
    "def close_popup(driver):\n",
    "    \"\"\"\n",
    "    Attempt to dismiss unexpected alerts and click common popup-close buttons.\n",
    "    \"\"\"\n",
    "    # 1) Dismiss any JavaScript alert\n",
    "    try:\n",
    "        alert = driver.switch_to.alert\n",
    "        alert.dismiss()\n",
    "        print(\"Dismissed an unexpected alert.\")\n",
    "    except Exception:\n",
    "        pass\n",
    "\n",
    "    # 2) Click any visible close buttons matching common selectors\n",
    "    try:\n",
    "        close_buttons = driver.find_elements(\n",
    "            By.XPATH,\n",
    "            \"//*[contains(@class, 'popup-close') or contains(@class, 'close-button') or contains(@id, 'close')]\"\n",
    "        )\n",
    "        for btn in close_buttons:\n",
    "            try:\n",
    "                btn.click()\n",
    "                print(\"Popup closed via close button.\")\n",
    "                break\n",
    "            except Exception as inner_e:\n",
    "                print(f\"Failed to click a popup close button: {inner_e}\")\n",
    "    except Exception as e:\n",
    "        print(f\"No popup found or error closing popup: {e}\")\n",
    "\n"
   ]
  },
  {
   "cell_type": "code",
   "execution_count": 8,
   "metadata": {},
   "outputs": [
    {
     "name": "stdout",
     "output_type": "stream",
     "text": [
      "\n",
      "Processing Report No.: 87083\n"
     ]
    },
    {
     "ename": "KeyboardInterrupt",
     "evalue": "",
     "output_type": "error",
     "traceback": [
      "\u001b[0;31m---------------------------------------------------------------------------\u001b[0m",
      "\u001b[0;31mKeyboardInterrupt\u001b[0m                         Traceback (most recent call last)",
      "Cell \u001b[0;32mIn[8], line 31\u001b[0m\n\u001b[1;32m     28\u001b[0m     driver \u001b[38;5;241m=\u001b[39m initialize_driver()\n\u001b[1;32m     29\u001b[0m     driver\u001b[38;5;241m.\u001b[39mget(link)\n\u001b[0;32m---> 31\u001b[0m \u001b[43mtime\u001b[49m\u001b[38;5;241;43m.\u001b[39;49m\u001b[43msleep\u001b[49m\u001b[43m(\u001b[49m\u001b[38;5;241;43m20\u001b[39;49m\u001b[43m)\u001b[49m                                               \u001b[38;5;66;03m# Wait for the page to fully load (adjust as needed)\u001b[39;00m\n\u001b[1;32m     33\u001b[0m \u001b[38;5;66;03m# Close any pop-ups that appear\u001b[39;00m\n\u001b[1;32m     34\u001b[0m close_popup(driver)\n",
      "\u001b[0;31mKeyboardInterrupt\u001b[0m: "
     ]
    }
   ],
   "source": [
    "# Iterate over each CSV row to download the corresponding TXT file\n",
    "\n",
    "for row in rows:\n",
    "    link = row[\"Link\"]                                           # The document’s detail page URL\n",
    "    report_no = row[\"Report No.\"]                                # Unique identifier for the document\n",
    "\n",
    "    print(f\"\\nProcessing Report No.: {report_no}\")\n",
    "\n",
    "    # Navigate to the document detail page, handling alerts or session issues\n",
    "    try:\n",
    "        driver.get(link)\n",
    "    except UnexpectedAlertPresentException:\n",
    "        # If an unexpected alert pops up during navigation, dismiss it and retry\n",
    "        try:\n",
    "            alert = driver.switch_to.alert\n",
    "            alert.dismiss()\n",
    "            print(\"Dismissed unexpected alert during page load.\")\n",
    "            driver.get(link)\n",
    "        except Exception as inner_e:\n",
    "            print(f\"Error dismissing alert for Report No. {report_no}: {inner_e}\")\n",
    "    except InvalidSessionIdException:\n",
    "        # If the WebDriver session is invalid, restart it\n",
    "        print(\"Invalid session detected. Reinitializing driver.\")\n",
    "        try:\n",
    "            driver.quit()\n",
    "        except Exception:\n",
    "            pass\n",
    "        driver = initialize_driver()\n",
    "        driver.get(link)\n",
    "\n",
    "    time.sleep(20)                                               # Wait for the page to fully load (adjust as needed)\n",
    "\n",
    "    # Close any pop-ups that appear\n",
    "    close_popup(driver)\n",
    "\n",
    "    # Locate the link to the plain-text version of the document\n",
    "    try:\n",
    "        txt_link_elem = driver.find_element(\n",
    "            By.XPATH,\n",
    "            \"//div[@class='main-detail']//ul[@class='document-link']//a[contains(@href, '/text/')]\"\n",
    "        )\n",
    "        txt_url = txt_link_elem.get_attribute(\"href\")\n",
    "        print(f\"Found TXT URL: {txt_url} for Report No.: {report_no}\")\n",
    "    except Exception as e:\n",
    "        # Log and skip if we can’t find the TXT link\n",
    "        err_msg = f\"Error finding TXT link: {e}\"\n",
    "        print(f\"Error for Report No. {report_no}: {err_msg}\")\n",
    "        log_writer.writerow({\n",
    "            \"Report No.\": report_no,\n",
    "            \"Status\": \"Link Not Found\",\n",
    "            \"Message\": err_msg,\n",
    "            \"Link\": link\n",
    "        })\n",
    "        continue\n",
    "\n",
    "    # Download the text file via HTTP\n",
    "    try:\n",
    "        response = requests.get(txt_url)\n",
    "        if response.status_code == 200:\n",
    "            file_path = os.path.join(text_dir, f\"{report_no}.txt\")\n",
    "            with open(file_path, mode=\"w\", encoding=\"utf-8\") as f:\n",
    "                f.write(response.text)\n",
    "            success_msg = f\"Saved to {file_path}\"\n",
    "            print(f\"Saved text file for Report No. {report_no} to {file_path}\")\n",
    "            log_writer.writerow({\n",
    "                \"Report No.\": report_no,\n",
    "                \"Status\": \"Downloaded\",\n",
    "                \"Message\": success_msg,\n",
    "                \"Link\": txt_url\n",
    "            })\n",
    "        else:\n",
    "            # Log non-200 HTTP responses\n",
    "            fail_msg = f\"HTTP status code: {response.status_code}\"\n",
    "            print(f\"Failed to download TXT for Report No. {report_no}, {fail_msg}\")\n",
    "            log_writer.writerow({\n",
    "                \"Report No.\": report_no,\n",
    "                \"Status\": \"Failed\",\n",
    "                \"Message\": fail_msg,\n",
    "                \"Link\": txt_url\n",
    "            })\n",
    "    except Exception as e:\n",
    "        # Log any exceptions during download\n",
    "        err_msg = f\"Error downloading TXT file: {e}\"\n",
    "        print(f\"Error downloading TXT file for Report No. {report_no}: {err_msg}\")\n",
    "        log_writer.writerow({\n",
    "            \"Report No.\": report_no,\n",
    "            \"Status\": \"Error\",\n",
    "            \"Message\": err_msg,\n",
    "            \"Link\": txt_url\n",
    "        })\n",
    "\n",
    "# Clean up: close browser and log file\n",
    "driver.quit()\n",
    "log_file.close()\n",
    "\n",
    "print(f\"Log generated: {log_filename}\")"
   ]
  },
  {
   "cell_type": "code",
   "execution_count": null,
   "metadata": {},
   "outputs": [],
   "source": []
  },
  {
   "cell_type": "code",
   "execution_count": null,
   "metadata": {},
   "outputs": [],
   "source": []
  }
 ],
 "metadata": {
  "kernelspec": {
   "display_name": "py311",
   "language": "python",
   "name": "python3"
  },
  "language_info": {
   "codemirror_mode": {
    "name": "ipython",
    "version": 3
   },
   "file_extension": ".py",
   "mimetype": "text/x-python",
   "name": "python",
   "nbconvert_exporter": "python",
   "pygments_lexer": "ipython3",
   "version": "3.11.5"
  }
 },
 "nbformat": 4,
 "nbformat_minor": 2
}
